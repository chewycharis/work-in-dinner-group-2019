{
 "cells": [
  {
   "cell_type": "code",
   "execution_count": 22,
   "metadata": {},
   "outputs": [],
   "source": [
    "import numpy as np \n",
    "from sklearn.metrics import pairwise_distances"
   ]
  },
  {
   "cell_type": "code",
   "execution_count": 38,
   "metadata": {},
   "outputs": [],
   "source": [
    "    def build_gaussian_kernel(traj,derivative=False):\n",
    "        original_shape=np.shape(traj)\n",
    "        print(original_shape)\n",
    "        traj=np.vstack(traj)\n",
    "        print(np.shape(traj))\n",
    "        dist=pairwise_distances(traj[::2])\n",
    "        epsilon=np.min(dist[np.nonzero(dist)])\n",
    "        print(epsilon)\n",
    "\n",
    "        if derivative is False:\n",
    "            k_epsilon=np.exp(-(traj[:,0]**2)/(epsilon))+np.exp(-(traj[:,1]**2)/(epsilon))+np.exp(-(traj[:,2]**2)/(epsilon))\n",
    "            k_epsilon=np.reshape(k_epsilon)\n",
    "            return k_epsilon\n",
    "        else:\n",
    "            grad_k_epsilon=np.exp(-(traj[:,0]**2)/(epsilon)) * (-2/epsilon*traj[:,0])+ np.exp(-(traj[:,1]**2)/(epsilon)) * (-2/epsilon*traj[:,1]) +np.exp(-(traj[:,2]**2)/(epsilon)) * (-2/epsilon*traj[:,2]) \n",
    "            grad_k_epsilon=np.reshape(grad_k_epsilon)\n",
    "            return grad_k_epsilon\n",
    "        \n",
    "        \n",
    "    def guess_dirac_delta(state_a,state_b, in_domain):\n",
    "        r=np.zeros(shape= np.shape(in_domain))\n",
    "        r[np.where(in_domain==0)[0]]=state_b [np.where(in_domain==0)[0]] + state_a[np.where(in_domain==0)[0]]\n",
    "        return L \n",
    "\n",
    "    def compute_generator(x,y=None,dt=1,lag=1):\n",
    "        if y is None :\n",
    "            y=x\n",
    "        N=np.shape(x)[0]\n",
    "        K=1/N * x[:-lag] .dot(y[lag:])\n",
    "        S=1/N * x .dot(x)\n",
    "        L= K-S/(lag*dt)\n",
    "        return L\n",
    "    \n",
    "    def compute_committor(basis, guess, grad_basis=None, force=None,coeff_q0=None):\n",
    "        if coeff_q0 is None:\n",
    "            fLf= compute_generator(basis)\n",
    "            # h is 0\n",
    "            frf=compute_generator(basis, guess)\n",
    "            coeff_q0 = np.linalg.solve(fLf, frf)\n",
    "            gamma = np.diag(coeff_q0) * basis\n",
    "            g = gamma + guess\n",
    "            return g\n",
    "        else:\n",
    "            fLf=compute_generator(basis)\n",
    "            q0_diag=np.diag(coeff_q0)\n",
    "            right_side=basis .dot(force) .dot(grad_basis).dot(q0_diag)\n",
    "            gamma=np.linalg.solve(fLf, right_side)\n",
    "            g=gamma + guess\n",
    "            return g \n",
    "        "
   ]
  },
  {
   "cell_type": "code",
   "execution_count": 36,
   "metadata": {},
   "outputs": [],
   "source": [
    "traj=np.load('../data/10000/traj_unperturb.npy')\n",
    "state_a=np.load('../data/10000/stateA_unperturb.npy')\n",
    "state_b=np.load('../data/10000/stateB_unperturb.npy')\n",
    "in_domain=np.full(np.shape(state_b),1)-state_a - state_b"
   ]
  },
  {
   "cell_type": "code",
   "execution_count": 39,
   "metadata": {},
   "outputs": [
    {
     "name": "stdout",
     "output_type": "stream",
     "text": [
      "(10000, 5, 2)\n",
      "(50000, 2)\n"
     ]
    },
    {
     "ename": "MemoryError",
     "evalue": "",
     "output_type": "error",
     "traceback": [
      "\u001b[0;31m---------------------------------------------------------------------------\u001b[0m",
      "\u001b[0;31mMemoryError\u001b[0m                               Traceback (most recent call last)",
      "\u001b[0;32m<ipython-input-39-e2d368c38068>\u001b[0m in \u001b[0;36m<module>\u001b[0;34m\u001b[0m\n\u001b[1;32m      1\u001b[0m \u001b[0;31m# step 1, build basis\u001b[0m\u001b[0;34m\u001b[0m\u001b[0;34m\u001b[0m\u001b[0;34m\u001b[0m\u001b[0m\n\u001b[0;32m----> 2\u001b[0;31m \u001b[0mbasis\u001b[0m \u001b[0;34m=\u001b[0m \u001b[0mbuild_gaussian_kernel\u001b[0m\u001b[0;34m(\u001b[0m\u001b[0mtraj\u001b[0m\u001b[0;34m)\u001b[0m\u001b[0;34m\u001b[0m\u001b[0;34m\u001b[0m\u001b[0m\n\u001b[0m\u001b[1;32m      3\u001b[0m \u001b[0mgrad_basis\u001b[0m\u001b[0;34m=\u001b[0m\u001b[0mbuild_gaussian_kernel\u001b[0m\u001b[0;34m(\u001b[0m\u001b[0mtraj\u001b[0m\u001b[0;34m,\u001b[0m\u001b[0;32mTrue\u001b[0m\u001b[0;34m)\u001b[0m\u001b[0;34m\u001b[0m\u001b[0;34m\u001b[0m\u001b[0m\n",
      "\u001b[0;32m<ipython-input-38-94d3b9a25b37>\u001b[0m in \u001b[0;36mbuild_gaussian_kernel\u001b[0;34m(traj, derivative)\u001b[0m\n\u001b[1;32m      5\u001b[0m     \u001b[0mprint\u001b[0m\u001b[0;34m(\u001b[0m\u001b[0mnp\u001b[0m\u001b[0;34m.\u001b[0m\u001b[0mshape\u001b[0m\u001b[0;34m(\u001b[0m\u001b[0mtraj\u001b[0m\u001b[0;34m)\u001b[0m\u001b[0;34m)\u001b[0m\u001b[0;34m\u001b[0m\u001b[0;34m\u001b[0m\u001b[0m\n\u001b[1;32m      6\u001b[0m     \u001b[0mdist\u001b[0m\u001b[0;34m=\u001b[0m\u001b[0mpairwise_distances\u001b[0m\u001b[0;34m(\u001b[0m\u001b[0mtraj\u001b[0m\u001b[0;34m[\u001b[0m\u001b[0;34m:\u001b[0m\u001b[0;34m:\u001b[0m\u001b[0;36m2\u001b[0m\u001b[0;34m]\u001b[0m\u001b[0;34m)\u001b[0m\u001b[0;34m\u001b[0m\u001b[0;34m\u001b[0m\u001b[0m\n\u001b[0;32m----> 7\u001b[0;31m     \u001b[0mepsilon\u001b[0m\u001b[0;34m=\u001b[0m\u001b[0mnp\u001b[0m\u001b[0;34m.\u001b[0m\u001b[0mmin\u001b[0m\u001b[0;34m(\u001b[0m\u001b[0mdist\u001b[0m\u001b[0;34m[\u001b[0m\u001b[0mnp\u001b[0m\u001b[0;34m.\u001b[0m\u001b[0mnonzero\u001b[0m\u001b[0;34m(\u001b[0m\u001b[0mdist\u001b[0m\u001b[0;34m)\u001b[0m\u001b[0;34m]\u001b[0m\u001b[0;34m)\u001b[0m\u001b[0;34m\u001b[0m\u001b[0;34m\u001b[0m\u001b[0m\n\u001b[0m\u001b[1;32m      8\u001b[0m     \u001b[0mprint\u001b[0m\u001b[0;34m(\u001b[0m\u001b[0mepsilon\u001b[0m\u001b[0;34m)\u001b[0m\u001b[0;34m\u001b[0m\u001b[0;34m\u001b[0m\u001b[0m\n\u001b[1;32m      9\u001b[0m \u001b[0;34m\u001b[0m\u001b[0m\n",
      "\u001b[0;31mMemoryError\u001b[0m: "
     ]
    }
   ],
   "source": [
    "# step 1, build basis \n",
    "basis = build_gaussian_kernel(traj)\n",
    "grad_basis=build_gaussian_kernel(traj,True)"
   ]
  },
  {
   "cell_type": "code",
   "execution_count": 17,
   "metadata": {},
   "outputs": [],
   "source": []
  }
 ],
 "metadata": {
  "kernelspec": {
   "display_name": "Python 3",
   "language": "python",
   "name": "python3"
  },
  "language_info": {
   "codemirror_mode": {
    "name": "ipython",
    "version": 3
   },
   "file_extension": ".py",
   "mimetype": "text/x-python",
   "name": "python",
   "nbconvert_exporter": "python",
   "pygments_lexer": "ipython3",
   "version": "3.7.3"
  }
 },
 "nbformat": 4,
 "nbformat_minor": 2
}
