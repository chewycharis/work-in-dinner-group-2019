{
 "cells": [
  {
   "cell_type": "code",
   "execution_count": 1,
   "metadata": {},
   "outputs": [],
   "source": [
    "import numpy as np \n",
    "from sklearn.neighbors import KNeighborsClassifier \n",
    "import joblib\n",
    "#from scipy.special import erf\n",
    "import torch\n",
    "from math import erf\n",
    "from muller_brown_potential_simulations import muller_brown_potential"
   ]
  },
  {
   "cell_type": "code",
   "execution_count": 13,
   "metadata": {},
   "outputs": [],
   "source": [
    "# load trajectory data and define states \n",
    "\n",
    "traj=np.load(\"../data/10000/traj_unperturb.npy\"); traj=np.vstack(traj)\n",
    "define_state_knn=joblib.load(\"define_state_for_MB_potential.joblib\")\n",
    "predict_closest_boundary=joblib.load(\"predict_closest_boundary.joblib\")\n",
    "boundary_points=np.load(\"boundary.npy\")\n",
    "\n",
    "knn_result=define_state_knn.predict(traj)  # state a =1; state b =2 ;domain =3\n",
    "\n",
    "state_a=np.zeros(np.shape(traj)[0]); state_a[np.where(knn_result[:,0]==1)] =1\n",
    "state_b=np.zeros(np.shape(traj)[0]); state_b[np.where(knn_result[:,0]==2)] =1\n",
    "domain=np.zeros(np.shape(traj)[0]); domain[np.where(knn_result[:,0]==3)] =1\n",
    "complement=np.zeros(np.shape(traj)[0]); complement[np.where(domain==0)]=1\n",
    "# boundary is the index for the closest boundary point \n",
    "boundary=predict_closest_boundary.predict(traj)[:,0]"
   ]
  },
  {
   "cell_type": "code",
   "execution_count": 3,
   "metadata": {
    "scrolled": true
   },
   "outputs": [],
   "source": [
    "def build_gaussian_basis(traj,boundary_points,num_basis):\n",
    "    num_frame=np.shape(traj)[0]\n",
    "\n",
    "    # randomly pick 100 frames and compute their mean and variance to build gaussians \n",
    "    var_list=[] ;  mu_list=[] ; basis=[]\n",
    "    \n",
    "    for x in range(num_basis):\n",
    "        random=np.random.randint(0,num_frame,size=100)\n",
    "        mu=np.mean(traj[random],axis=0)\n",
    "        var=np.mean(np.var(traj[random],axis=0)) # np.var computes variance for x and y separately. we then average the variances\n",
    "        mu_list.append(mu)\n",
    "        var_list.append(var)\n",
    "\n",
    "        for frame in range(num_frame):\n",
    "            g=np.exp(-1*(np.linalg.norm(traj[frame]-mu)**2)/(2*var))     \n",
    "            state=int(domain[frame])\n",
    "            s=1\n",
    "            if state==1: # point in Domain \n",
    "                boundary_index=int(boundary[frame])  \n",
    "                s_factor=10\n",
    "                s=0.5*(erf((s_factor)*np.linalg.norm(traj[frame] - boundary_points[boundary_index]) - 3.5) + 1)\n",
    "\n",
    "            basis.append(g*s)\n",
    "    \n",
    "    basis=np.asarray(basis).reshape((num_frame,num_basis),order='F')\n",
    "    return basis, var_list, mu_list\n"
   ]
  },
  {
   "cell_type": "code",
   "execution_count": 4,
   "metadata": {},
   "outputs": [],
   "source": [
    "result=build_gaussian_basis(traj,boundary_points,10)"
   ]
  },
  {
   "cell_type": "code",
   "execution_count": 5,
   "metadata": {},
   "outputs": [
    {
     "data": {
      "image/png": "[encoded data removed]",
      "text/plain": [
       "<Figure size 576x432 with 4 Axes>"
      ]
     },
     "metadata": {
      "needs_background": "light"
     },
     "output_type": "display_data"
    }
   ],
   "source": [
    "import matplotlib.pyplot as plt\n",
    "d_index=np.where(domain==1)[0]\n",
    "fig,ax = plt.subplots(2,2,figsize=(8,6))\n",
    "ax[0,0].scatter(np.asarray(result[2])[:,0],np.asarray(result[2])[:,1])\n",
    "ax[0,0].set_title(\"mean\")\n",
    "ax[0,1].scatter(range(len(result[1])),np.asarray(result[1]))\n",
    "ax[0,1].set_title(\"variance\")\n",
    "\n",
    "first_30_points_in_domain=np.asarray(result[0])[:,0][d_index][:100]\n",
    "\n",
    "highlight=[0, 2, 5, 21, 22, 48, 49, 50, 55, 56, 60, 62, 80, 86, 96]\n",
    "ax[1,0].scatter(range(100),first_30_points_in_domain,c='b')\n",
    "ax[1,0].set_title(\"basis 1\")\n",
    "ax[1,0].scatter(np.asarray(range(100))[highlight],first_30_points_in_domain[highlight],c='r')\n",
    "ax[1,0].set_ylim(0,1)\n",
    "\n",
    "ax[1,1].scatter(boundary_points[:,0], boundary_points[:,1],c='orange')\n",
    "\n",
    "ax[1,1].scatter(traj[d_index][:100][:,0],traj[d_index][:100][:,1],c='b')\n",
    "ax[1,1].scatter(traj[d_index][highlight][:,0],traj[d_index][highlight][:,1],c='r')\n",
    "\n",
    "fig.tight_layout()"
   ]
  },
  {
   "cell_type": "code",
   "execution_count": 8,
   "metadata": {},
   "outputs": [],
   "source": [
    "def build_guess_function(basis, state_b, domain):\n",
    "        domain_index=np.where(domain==1)[0]\n",
    "        complement_index=np.where(domain==0)[0]\n",
    "        \n",
    "        r=np.zeros(shape=np.shape(domain))\n",
    "        r[complement_index]=state_b[complement_index]\n",
    "        \n",
    "        #set up A x =b equation to solve for x\n",
    "        basis_DX50=basis[domain_index]\n",
    "        basis_DcX50=basis[complement_index]\n",
    "        r_DcX1=r[complement_index]        \n",
    "        A=basis_DX50 .dot(basis_DX50.T)\n",
    "        b=-1* basis_DX50 .dot(basis_DcX50.T) \n",
    "        b=b.dot(r_DcX1)\n",
    "        gamma=np.linalg.solve(A,b)\n",
    "        \n",
    "        r[domain_index]=gamma\n",
    "        \n",
    "        return r\n",
    "\n",
    "\n"
   ]
  },
  {
   "cell_type": "code",
   "execution_count": 9,
   "metadata": {},
   "outputs": [
    {
     "ename": "MemoryError",
     "evalue": "",
     "output_type": "error",
     "traceback": [
      "\u001b[0;31m---------------------------------------------------------------------------\u001b[0m",
      "\u001b[0;31mMemoryError\u001b[0m                               Traceback (most recent call last)",
      "\u001b[0;32m<ipython-input-9-12e0c3353bb1>\u001b[0m in \u001b[0;36m<module>\u001b[0;34m\u001b[0m\n\u001b[1;32m      1\u001b[0m \u001b[0mbasis\u001b[0m\u001b[0;34m=\u001b[0m\u001b[0mresult\u001b[0m\u001b[0;34m[\u001b[0m\u001b[0;36m0\u001b[0m\u001b[0;34m]\u001b[0m\u001b[0;34m[\u001b[0m\u001b[0;34m:\u001b[0m\u001b[0;34m,\u001b[0m\u001b[0;36m0\u001b[0m\u001b[0;34m:\u001b[0m\u001b[0;36m10\u001b[0m\u001b[0;34m]\u001b[0m\u001b[0;34m\u001b[0m\u001b[0;34m\u001b[0m\u001b[0m\n\u001b[0;32m----> 2\u001b[0;31m \u001b[0mguess\u001b[0m\u001b[0;34m=\u001b[0m\u001b[0mbuild_guess_function\u001b[0m\u001b[0;34m(\u001b[0m\u001b[0mbasis\u001b[0m\u001b[0;34m,\u001b[0m\u001b[0mstate_b\u001b[0m\u001b[0;34m,\u001b[0m \u001b[0mdomain\u001b[0m\u001b[0;34m)\u001b[0m\u001b[0;34m\u001b[0m\u001b[0;34m\u001b[0m\u001b[0m\n\u001b[0m",
      "\u001b[0;32m<ipython-input-8-ab0cf507e760>\u001b[0m in \u001b[0;36mbuild_guess_function\u001b[0;34m(basis, state_b, domain)\u001b[0m\n\u001b[1;32m     10\u001b[0m         \u001b[0mbasis_DcX50\u001b[0m\u001b[0;34m=\u001b[0m\u001b[0mbasis\u001b[0m\u001b[0;34m[\u001b[0m\u001b[0mcomplement_index\u001b[0m\u001b[0;34m]\u001b[0m\u001b[0;34m\u001b[0m\u001b[0;34m\u001b[0m\u001b[0m\n\u001b[1;32m     11\u001b[0m         \u001b[0mr_DcX1\u001b[0m\u001b[0;34m=\u001b[0m\u001b[0mr\u001b[0m\u001b[0;34m[\u001b[0m\u001b[0mcomplement_index\u001b[0m\u001b[0;34m]\u001b[0m\u001b[0;34m\u001b[0m\u001b[0;34m\u001b[0m\u001b[0m\n\u001b[0;32m---> 12\u001b[0;31m         \u001b[0mA\u001b[0m\u001b[0;34m=\u001b[0m\u001b[0mbasis_DX50\u001b[0m \u001b[0;34m.\u001b[0m\u001b[0mdot\u001b[0m\u001b[0;34m(\u001b[0m\u001b[0mbasis_DX50\u001b[0m\u001b[0;34m.\u001b[0m\u001b[0mT\u001b[0m\u001b[0;34m)\u001b[0m\u001b[0;34m\u001b[0m\u001b[0;34m\u001b[0m\u001b[0m\n\u001b[0m\u001b[1;32m     13\u001b[0m         \u001b[0mb\u001b[0m\u001b[0;34m=\u001b[0m\u001b[0;34m-\u001b[0m\u001b[0;36m1\u001b[0m\u001b[0;34m*\u001b[0m \u001b[0mbasis_DX50\u001b[0m \u001b[0;34m.\u001b[0m\u001b[0mdot\u001b[0m\u001b[0;34m(\u001b[0m\u001b[0mbasis_DcX50\u001b[0m\u001b[0;34m.\u001b[0m\u001b[0mT\u001b[0m\u001b[0;34m)\u001b[0m\u001b[0;34m\u001b[0m\u001b[0;34m\u001b[0m\u001b[0m\n\u001b[1;32m     14\u001b[0m         \u001b[0mb\u001b[0m\u001b[0;34m=\u001b[0m\u001b[0mb\u001b[0m\u001b[0;34m.\u001b[0m\u001b[0mdot\u001b[0m\u001b[0;34m(\u001b[0m\u001b[0mr_DcX1\u001b[0m\u001b[0;34m)\u001b[0m\u001b[0;34m\u001b[0m\u001b[0;34m\u001b[0m\u001b[0m\n",
      "\u001b[0;31mMemoryError\u001b[0m: "
     ]
    }
   ],
   "source": [
    "basis=result[0][:,0:10]\n",
    "guess=build_guess_function(basis,state_b, domain)"
   ]
  },
  {
   "cell_type": "code",
   "execution_count": null,
   "metadata": {
    "scrolled": true
   },
   "outputs": [],
   "source": [
    "plt.scatter(range(1000),guess[:1000])"
   ]
  },
  {
   "cell_type": "code",
   "execution_count": null,
   "metadata": {},
   "outputs": [],
   "source": [
    "    def compute_generator(x,y=None,dt=1,lag=1):\n",
    "        if y is None :\n",
    "            y=x\n",
    "        N=np.shape(x)[0] # N = number of frames x number of trajectories  \n",
    "        K=1/N * x[:-lag] .dot(y[lag:])\n",
    "        S=1/N * x .dot(x.T)\n",
    "        L= K-S/(lag*dt)\n",
    "        return L\n",
    "    \n",
    "    def compute_committor(basis, guess, grad_basis=None, force=None,coeff_q0=None):\n",
    "        if coeff_q0 is None:\n",
    "            fLf= compute_generator(basis)\n",
    "            # h is 0\n",
    "            frf=compute_generator(basis, guess)\n",
    "            coeff_q0 = np.linalg.solve(fLf, frf)\n",
    "            gamma = np.diag(coeff_q0) * basis\n",
    "            g = gamma + guess\n",
    "            return g\n",
    "        else:\n",
    "            fLf=compute_generator(basis)\n",
    "            q0_diag=np.diag(coeff_q0)\n",
    "            right_side=basis .dot(force) .dot(grad_basis).dot(q0_diag)\n",
    "            gamma=np.linalg.solve(fLf, right_side)\n",
    "            g=gamma + guess"
   ]
  },
  {
   "cell_type": "code",
   "execution_count": null,
   "metadata": {},
   "outputs": [],
   "source": []
  },
  {
   "cell_type": "code",
   "execution_count": null,
   "metadata": {},
   "outputs": [],
   "source": []
  }
 ],
 "metadata": {
  "kernelspec": {
   "display_name": "Python 3",
   "language": "python",
   "name": "python3"
  },
  "language_info": {
   "codemirror_mode": {
    "name": "ipython",
    "version": 3
   },
   "file_extension": ".py",
   "mimetype": "text/x-python",
   "name": "python",
   "nbconvert_exporter": "python",
   "pygments_lexer": "ipython3",
   "version": "3.7.3"
  }
 },
 "nbformat": 4,
 "nbformat_minor": 2
}
