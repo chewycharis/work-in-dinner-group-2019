{
 "cells": [
  {
   "cell_type": "code",
   "execution_count": 2,
   "metadata": {},
   "outputs": [],
   "source": [
    "import numpy as np \n",
    "from sklearn.metrics.pairwise import euclidean_distances"
   ]
  },
  {
   "cell_type": "code",
   "execution_count": 10,
   "metadata": {},
   "outputs": [],
   "source": [
    "    def build_gaussian_kernel(traj,alpha=0,power_m=1, derivative=False):\n",
    "        original_shape=np.shape(traj)\n",
    "        traj=np.vstack(traj)\n",
    "        epsilonx=np.min(euclidean_distances(traj))\n",
    "\n",
    "        if derivative is False:\n",
    "            k_epsilon=np.exp(-(traj[:,0]**2)/(epsilon))+np.exp(-(traj[:,1]**2)/(epsilon))+np.exp(-(traj[:,2]**2)/(epsilon))\n",
    "            k_epsilon=np.reshape(k_epsilon)\n",
    "            return k_epsilon\n",
    "        else:\n",
    "            grad_k_epsilon=np.exp(-(traj[:,0]**2)/(epsilon)) * (-2/epsilon*traj[:,0])+ np.exp(-(traj[:,1]**2)/(epsilon)) * (-2/epsilon*traj[:,1]) +np.exp(-(traj[:,2]**2)/(epsilon)) * (-2/epsilon*traj[:,2]) \n",
    "            grad_k_epsilon=np.reshape(grad_k_epsilon)\n",
    "            return grad_k_epsilon\n",
    "        \n",
    "        \n",
    "    def guess_dirac_delta(state_a,state_b, in_domain):\n",
    "        r=np.zeros(shape= np.shape(in_domain))\n",
    "        r[np.where(in_domain==0)[0]]=state_b [np.where(in_domain==0)[0]] + state_a[np.where(in_domain==0)[0]]\n",
    "        return L \n",
    "\n",
    "    def compute_generator(x,y=None,dt=1,lag=1):\n",
    "        if y is None :\n",
    "            y=x\n",
    "        N=np.shape(x)[0]\n",
    "        K=1/N * x[:-lag] .dot(y[lag:])\n",
    "        S=1/N * x .dot(x)\n",
    "        L= K-S/(lag*dt)\n",
    "        return L\n",
    "    \n",
    "    def compute_commitor(basis, guess, grad_basis=None, force=None,coeff_q0=None):\n",
    "        if coeff_q0 is None:\n",
    "            fLf= compute_generator(basis)\n",
    "            # h is 0\n",
    "            frf=compute_generator(basis, guess)\n",
    "            coeff_q0 = np.linalg.solve(fLf, frf)\n",
    "            gamma = np.diag(coeff_q0) * basis\n",
    "            g = gamma + guess\n",
    "            return g\n",
    "        else:\n",
    "            fLf=compute_generator(basis)\n",
    "            q0_diag=np.diag(coeff_q0)\n",
    "            right_side=basis .dot(force) .dot(grad_basis).dot(q0_diag)\n",
    "            gamma=np.linalg.solve(fLf, right_side)\n",
    "            g=gamma + guess\n",
    "            return g \n",
    "        "
   ]
  },
  {
   "cell_type": "code",
   "execution_count": null,
   "metadata": {},
   "outputs": [],
   "source": []
  }
 ],
 "metadata": {
  "kernelspec": {
   "display_name": "Python 3",
   "language": "python",
   "name": "python3"
  },
  "language_info": {
   "codemirror_mode": {
    "name": "ipython",
    "version": 3
   },
   "file_extension": ".py",
   "mimetype": "text/x-python",
   "name": "python",
   "nbconvert_exporter": "python",
   "pygments_lexer": "ipython3",
   "version": "3.7.3"
  }
 },
 "nbformat": 4,
 "nbformat_minor": 2
}
